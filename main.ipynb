{
 "cells": [
  {
   "cell_type": "code",
   "execution_count": 69,
   "id": "52288804",
   "metadata": {},
   "outputs": [],
   "source": [
    "# Data imports\n",
    "import re\n",
    "import numpy as np\n",
    "import pandas as pd\n",
    "import matplotlib.pyplot as plt\n",
    "\n",
    "# # ML imports\n",
    "from sklearn.model_selection import train_test_split\n",
    "from tensorflow.keras.models import Sequential, load_model\n",
    "from tensorflow.keras.layers import Dense, Dropout, LSTM, GRU, Embedding\n",
    "from tensorflow.keras.preprocessing.text import Tokenizer\n",
    "from tensorflow.keras.preprocessing.sequence import pad_sequences"
   ]
  },
  {
   "cell_type": "code",
   "execution_count": 3,
   "id": "88b459ff",
   "metadata": {},
   "outputs": [
    {
     "name": "stdout",
     "output_type": "stream",
     "text": [
      "(5791, 2)\n"
     ]
    },
    {
     "data": {
      "text/html": [
       "<div>\n",
       "<style scoped>\n",
       "    .dataframe tbody tr th:only-of-type {\n",
       "        vertical-align: middle;\n",
       "    }\n",
       "\n",
       "    .dataframe tbody tr th {\n",
       "        vertical-align: top;\n",
       "    }\n",
       "\n",
       "    .dataframe thead th {\n",
       "        text-align: right;\n",
       "    }\n",
       "</style>\n",
       "<table border=\"1\" class=\"dataframe\">\n",
       "  <thead>\n",
       "    <tr style=\"text-align: right;\">\n",
       "      <th></th>\n",
       "      <th>Text</th>\n",
       "      <th>Sentiment</th>\n",
       "    </tr>\n",
       "  </thead>\n",
       "  <tbody>\n",
       "    <tr>\n",
       "      <th>0</th>\n",
       "      <td>ohi setups mnkd dvax anad atm azk bee dang gev...</td>\n",
       "      <td>1</td>\n",
       "    </tr>\n",
       "    <tr>\n",
       "      <th>1</th>\n",
       "      <td>the fund will provide financing to companies h...</td>\n",
       "      <td>1</td>\n",
       "    </tr>\n",
       "    <tr>\n",
       "      <th>2</th>\n",
       "      <td>mcp i like the company but no</td>\n",
       "      <td>-1</td>\n",
       "    </tr>\n",
       "    <tr>\n",
       "      <th>3</th>\n",
       "      <td>india is expected to post sharp turnaround in ...</td>\n",
       "      <td>1</td>\n",
       "    </tr>\n",
       "    <tr>\n",
       "      <th>4</th>\n",
       "      <td>swi solarwinds this is houston you have cleare...</td>\n",
       "      <td>1</td>\n",
       "    </tr>\n",
       "    <tr>\n",
       "      <th>5</th>\n",
       "      <td>aap dumping into the close still see this goin...</td>\n",
       "      <td>-1</td>\n",
       "    </tr>\n",
       "    <tr>\n",
       "      <th>6</th>\n",
       "      <td>user eaders ead bac on which side is the quest...</td>\n",
       "      <td>-1</td>\n",
       "    </tr>\n",
       "    <tr>\n",
       "      <th>7</th>\n",
       "      <td>isopropylalcohol prices have more than tripled...</td>\n",
       "      <td>-1</td>\n",
       "    </tr>\n",
       "    <tr>\n",
       "      <th>8</th>\n",
       "      <td>a quiet carl icahn  bullish  nfx shorts should...</td>\n",
       "      <td>1</td>\n",
       "    </tr>\n",
       "    <tr>\n",
       "      <th>9</th>\n",
       "      <td>hope you got short aig</td>\n",
       "      <td>-1</td>\n",
       "    </tr>\n",
       "  </tbody>\n",
       "</table>\n",
       "</div>"
      ],
      "text/plain": [
       "                                                Text  Sentiment\n",
       "0  ohi setups mnkd dvax anad atm azk bee dang gev...          1\n",
       "1  the fund will provide financing to companies h...          1\n",
       "2                      mcp i like the company but no         -1\n",
       "3  india is expected to post sharp turnaround in ...          1\n",
       "4  swi solarwinds this is houston you have cleare...          1\n",
       "5  aap dumping into the close still see this goin...         -1\n",
       "6  user eaders ead bac on which side is the quest...         -1\n",
       "7  isopropylalcohol prices have more than tripled...         -1\n",
       "8  a quiet carl icahn  bullish  nfx shorts should...          1\n",
       "9                          hope you got short aig            -1"
      ]
     },
     "execution_count": 3,
     "metadata": {},
     "output_type": "execute_result"
    }
   ],
   "source": [
    "# read data\n",
    "df = pd.read_csv(\"apis/tweet_data.csv\")\n",
    "\n",
    "# sample data\n",
    "df = df.sample(frac=1).reset_index(drop=True)\n",
    "\n",
    "# clean tweet text\n",
    "df['Text'] = df['Text'].apply(lambda x: x.lower())  # transform text to lowercase\n",
    "df['Text'] = df['Text'].apply(lambda x: re.sub('[^a-zA-z0-9\\s]', '', x))\n",
    "print(df.shape)\n",
    "df.head(10)"
   ]
  },
  {
   "cell_type": "code",
   "execution_count": 4,
   "id": "414cd237",
   "metadata": {},
   "outputs": [
    {
     "data": {
      "image/png": "[encoded data removed]",
      "text/plain": [
       "<Figure size 432x288 with 1 Axes>"
      ]
     },
     "metadata": {
      "needs_background": "light"
     },
     "output_type": "display_data"
    }
   ],
   "source": [
    "df['Sentiment'].value_counts().sort_index().plot.bar()\n",
    "plt.savefig(\"images/single_count.png\")"
   ]
  },
  {
   "cell_type": "code",
   "execution_count": 6,
   "id": "5acb25ca",
   "metadata": {},
   "outputs": [
    {
     "data": {
      "image/png": "[encoded data removed]",
      "text/plain": [
       "<Figure size 432x288 with 1 Axes>"
      ]
     },
     "metadata": {
      "needs_background": "light"
     },
     "output_type": "display_data"
    }
   ],
   "source": [
    "df['Text'].str.len().plot.hist()\n",
    "plt.savefig(\"images/tweet_len.png\")"
   ]
  },
  {
   "cell_type": "code",
   "execution_count": 7,
   "id": "c4d9b3d8",
   "metadata": {},
   "outputs": [
    {
     "name": "stdout",
     "output_type": "stream",
     "text": [
      "X tokenized data =  [[   0    0    0    0    0    0    0    0    0    0    0    0    0    0\n",
      "     0 4776  771 1379  772  933 2530 3238 4777 4778  598 1553 4779 1554\n",
      "  3239 3240 2065]\n",
      " [   0    0    0    0    0    0    0    0    0    0    0    0    0    0\n",
      "     0    0    0    1  426   18 2531 2532    2  376  217   62    1 2533\n",
      "    63  284 4780]\n",
      " [   0    0    0    0    0    0    0    0    0    0    0    0    0    0\n",
      "     0    0    0    0    0    0    0    0    0    0  352   15   29    1\n",
      "   273   32   70]\n",
      " [   0    0    0    0    0    0    0    0    0    0    0    0    0    0\n",
      "     0    0  599   10  573    2  263 3241 2534    5 4781  247  370  773\n",
      "  4782 2066 4783]\n",
      " [   0    0    0    0    0    0    0    0    0    0    0    0    0    0\n",
      "     0    0    0    0 1123 4784   14   10 4785   41   51 1555    1 3242\n",
      "  4786    2 1231]]\n"
     ]
    }
   ],
   "source": [
    "# X as tokenize data\n",
    "tokenizer = Tokenizer(num_words=5000)\n",
    "tokenizer.fit_on_texts(df['Text'].values)\n",
    "X = tokenizer.texts_to_sequences(df['Text'].values)\n",
    "X = pad_sequences(X)\n",
    "print(\"X tokenized data = \", X[:5])"
   ]
  },
  {
   "cell_type": "code",
   "execution_count": 13,
   "id": "ab84948c",
   "metadata": {
    "scrolled": true
   },
   "outputs": [
    {
     "name": "stdout",
     "output_type": "stream",
     "text": [
      "1 [0 1]\n",
      "1 [0 1]\n",
      "-1 [1 0]\n",
      "1 [0 1]\n",
      "1 [0 1]\n"
     ]
    },
    {
     "data": {
      "text/plain": [
       "[None, None, None, None, None]"
      ]
     },
     "execution_count": 13,
     "metadata": {},
     "output_type": "execute_result"
    }
   ],
   "source": [
    "# Y as buckets of Sentiment column\n",
    "y = pd.get_dummies(df['Sentiment']).values\n",
    "[print(df['Sentiment'][i], y[i]) for i in range(0, 5)]"
   ]
  },
  {
   "cell_type": "code",
   "execution_count": 70,
   "id": "d5a9a67c",
   "metadata": {},
   "outputs": [],
   "source": [
    "# lstm create model\n",
    "model = Sequential()\n",
    "model.add(Embedding(5000, 256, input_length=X.shape[1]))\n",
    "model.add(Dropout(0.3))\n",
    "model.add(GRU(256, return_sequences=True, dropout=0.3, recurrent_dropout=0.2))\n",
    "model.add(GRU(256, dropout=0.3, recurrent_dropout=0.2))\n",
    "model.add(Dense(2, activation='softmax'))"
   ]
  },
  {
   "cell_type": "code",
   "execution_count": 71,
   "id": "cd85a661",
   "metadata": {},
   "outputs": [
    {
     "name": "stdout",
     "output_type": "stream",
     "text": [
      "Model: \"sequential_2\"\n",
      "_________________________________________________________________\n",
      "Layer (type)                 Output Shape              Param #   \n",
      "=================================================================\n",
      "embedding_2 (Embedding)      (None, 31, 256)           1280000   \n",
      "_________________________________________________________________\n",
      "dropout_2 (Dropout)          (None, 31, 256)           0         \n",
      "_________________________________________________________________\n",
      "gru (GRU)                    (None, 31, 256)           394752    \n",
      "_________________________________________________________________\n",
      "gru_1 (GRU)                  (None, 256)               394752    \n",
      "_________________________________________________________________\n",
      "dense_1 (Dense)              (None, 2)                 514       \n",
      "=================================================================\n",
      "Total params: 2,070,018\n",
      "Trainable params: 2,070,018\n",
      "Non-trainable params: 0\n",
      "_________________________________________________________________\n"
     ]
    }
   ],
   "source": [
    "model.compile(loss='categorical_crossentropy', optimizer='adam', metrics=['accuracy'])\n",
    "model.summary()"
   ]
  },
  {
   "cell_type": "code",
   "execution_count": 72,
   "id": "4fd3cd2e",
   "metadata": {},
   "outputs": [],
   "source": [
    "X_train, X_test, y_train, y_test = train_test_split(X, y, test_size=0.2, random_state=0)"
   ]
  },
  {
   "cell_type": "code",
   "execution_count": 73,
   "id": "efbcccb6",
   "metadata": {},
   "outputs": [
    {
     "name": "stdout",
     "output_type": "stream",
     "text": [
      "Epoch 1/8\n",
      "145/145 - 42s - loss: 0.5823 - accuracy: 0.6921\n",
      "Epoch 2/8\n",
      "145/145 - 36s - loss: 0.3641 - accuracy: 0.8469\n",
      "Epoch 3/8\n",
      "145/145 - 41s - loss: 0.2293 - accuracy: 0.9063\n",
      "Epoch 4/8\n",
      "145/145 - 39s - loss: 0.1341 - accuracy: 0.9495\n",
      "Epoch 5/8\n",
      "145/145 - 40s - loss: 0.0926 - accuracy: 0.9637\n",
      "Epoch 6/8\n",
      "145/145 - 35s - loss: 0.0594 - accuracy: 0.9778\n",
      "Epoch 7/8\n",
      "145/145 - 35s - loss: 0.0480 - accuracy: 0.9838\n",
      "Epoch 8/8\n",
      "145/145 - 35s - loss: 0.0373 - accuracy: 0.9870\n"
     ]
    }
   ],
   "source": [
    "batch_size = 32\n",
    "epochs = 8\n",
    "\n",
    "history = model.fit(X_train, y_train, epochs=epochs, batch_size=batch_size, verbose=2)"
   ]
  },
  {
   "cell_type": "code",
   "execution_count": 74,
   "id": "2c989183",
   "metadata": {},
   "outputs": [],
   "source": [
    "predictions = model.predict(X_test)"
   ]
  },
  {
   "cell_type": "code",
   "execution_count": 75,
   "id": "db9401f0",
   "metadata": {},
   "outputs": [
    {
     "name": "stdout",
     "output_type": "stream",
     "text": [
      "Positive predictions: 719\n",
      "Negative predictions: 440\n",
      "Real neutral: 752\n",
      "Real negative: 407\n"
     ]
    }
   ],
   "source": [
    "pos_count, neg_count = 0, 0\n",
    "real_pos, real_neg = 0, 0\n",
    "for i, prediction in enumerate(predictions):\n",
    "    if np.argmax(prediction)==1:\n",
    "        pos_count += 1\n",
    "    else:\n",
    "        neg_count += 1\n",
    "    if np.argmax(y_test[i])==1:    \n",
    "        real_pos += 1\n",
    "    else:\n",
    "        real_neg +=1\n",
    "\n",
    "print('Positive predictions:', pos_count)\n",
    "print('Negative predictions:', neg_count)\n",
    "\n",
    "print('Real neutral:', real_pos)\n",
    "print('Real negative:', real_neg)"
   ]
  },
  {
   "cell_type": "code",
   "execution_count": 76,
   "id": "0647b7e5",
   "metadata": {},
   "outputs": [],
   "source": [
    "import matplotlib.pyplot as plt"
   ]
  },
  {
   "cell_type": "code",
   "execution_count": 77,
   "id": "245f8ffe",
   "metadata": {},
   "outputs": [
    {
     "name": "stdout",
     "output_type": "stream",
     "text": [
      "[0.5822564959526062, 0.36414289474487305, 0.22926323115825653, 0.1341038942337036, 0.09261605143547058, 0.0593746118247509, 0.048009730875492096, 0.03731507807970047]\n"
     ]
    }
   ],
   "source": [
    "print(history.history['loss'], )\n",
    "predictions = [pos_count, neg_count]\n",
    "real = [real_pos, real_neg]\n",
    "labels = ['Positive', 'Negative']"
   ]
  },
  {
   "cell_type": "code",
   "execution_count": 78,
   "id": "0ce766c4",
   "metadata": {},
   "outputs": [
    {
     "data": {
      "image/png": "[encoded data removed]",
      "text/plain": [
       "<Figure size 432x288 with 1 Axes>"
      ]
     },
     "metadata": {
      "needs_background": "light"
     },
     "output_type": "display_data"
    }
   ],
   "source": [
    "x = np.arange(len(labels))\n",
    "width = 0.35 \n",
    "\n",
    "fig, ax = plt.subplots()\n",
    "rects1 = ax.bar(x - width/2, real, width, label='Real')\n",
    "rects2 = ax.bar(x + width/2, predictions, width, label='Predictions')\n",
    "\n",
    "ax.set_ylabel('Scores')\n",
    "ax.set_title('Count of Classifications')\n",
    "ax.set_xticks(x)\n",
    "ax.set_xticklabels(labels)\n",
    "ax.legend()\n",
    "\n",
    "ax.bar_label(rects1, padding=3)\n",
    "ax.bar_label(rects2, padding=3)\n",
    "\n",
    "fig.tight_layout()\n",
    "plt.savefig(\"images/predictions_gru.png\")\n",
    "plt.show()"
   ]
  },
  {
   "cell_type": "code",
   "execution_count": 79,
   "id": "ba886246",
   "metadata": {},
   "outputs": [
    {
     "data": {
      "image/png": "[encoded data removed]",
      "text/plain": [
       "<Figure size 432x288 with 1 Axes>"
      ]
     },
     "metadata": {
      "needs_background": "light"
     },
     "output_type": "display_data"
    }
   ],
   "source": [
    "fig, ax = plt.subplots()\n",
    "loss = history.history['loss']\n",
    "epoch = [item for item in range(1,9)]\n",
    "accuracy = history.history['accuracy']\n",
    "ax.plot(epoch, loss, label = \"Loss\")\n",
    "ax.plot(epoch, accuracy, label = \"Accuracy\")\n",
    "\n",
    "ax.set_xlabel('Epoch')\n",
    "ax.set_title('Accuracy and Loss per epoch')\n",
    "plt.legend()\n",
    "plt.savefig(\"images/epoch_gru.png\")\n",
    "plt.show()"
   ]
  }
 ],
 "metadata": {
  "kernelspec": {
   "display_name": "Python 3",
   "language": "python",
   "name": "python3"
  },
  "language_info": {
   "codemirror_mode": {
    "name": "ipython",
    "version": 3
   },
   "file_extension": ".py",
   "mimetype": "text/x-python",
   "name": "python",
   "nbconvert_exporter": "python",
   "pygments_lexer": "ipython3",
   "version": "3.8.5"
  }
 },
 "nbformat": 4,
 "nbformat_minor": 5
}
