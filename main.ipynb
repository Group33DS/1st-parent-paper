{
 "cells": [
  {
   "cell_type": "code",
   "execution_count": 5,
   "id": "52288804",
   "metadata": {},
   "outputs": [],
   "source": [
    "# Data imports\n",
    "import re\n",
    "import numpy as np\n",
    "import pandas as pd\n",
    "import matplotlib.pyplot as plt\n",
    "\n",
    "# # ML imports\n",
    "# from sklearn.model_selection import train_test_split\n",
    "# from tensorflow.keras.models import Sequential, load_model\n",
    "# from tensorflow.keras.layers import Dense, Dropout, LSTM, Embedding\n",
    "# from tensorflow.keras.preprocessing.text import Tokenizer\n",
    "# from tensorflow.keras.preprocessing.sequence import pad_sequences"
   ]
  },
  {
   "cell_type": "code",
   "execution_count": 6,
   "id": "88b459ff",
   "metadata": {},
   "outputs": [
    {
     "name": "stdout",
     "output_type": "stream",
     "text": [
      "(14640, 2)\n"
     ]
    },
    {
     "data": {
      "text/html": [
       "<div>\n",
       "<style scoped>\n",
       "    .dataframe tbody tr th:only-of-type {\n",
       "        vertical-align: middle;\n",
       "    }\n",
       "\n",
       "    .dataframe tbody tr th {\n",
       "        vertical-align: top;\n",
       "    }\n",
       "\n",
       "    .dataframe thead th {\n",
       "        text-align: right;\n",
       "    }\n",
       "</style>\n",
       "<table border=\"1\" class=\"dataframe\">\n",
       "  <thead>\n",
       "    <tr style=\"text-align: right;\">\n",
       "      <th></th>\n",
       "      <th>airline_sentiment</th>\n",
       "      <th>text</th>\n",
       "    </tr>\n",
       "  </thead>\n",
       "  <tbody>\n",
       "    <tr>\n",
       "      <th>0</th>\n",
       "      <td>negative</td>\n",
       "      <td>usairways cant get back lost time</td>\n",
       "    </tr>\n",
       "    <tr>\n",
       "      <th>1</th>\n",
       "      <td>negative</td>\n",
       "      <td>usairways three hours on hold then disconnecte...</td>\n",
       "    </tr>\n",
       "    <tr>\n",
       "      <th>2</th>\n",
       "      <td>positive</td>\n",
       "      <td>united for the record rozana at newark was lov...</td>\n",
       "    </tr>\n",
       "    <tr>\n",
       "      <th>3</th>\n",
       "      <td>negative</td>\n",
       "      <td>southwestair never got any notification that f...</td>\n",
       "    </tr>\n",
       "    <tr>\n",
       "      <th>4</th>\n",
       "      <td>negative</td>\n",
       "      <td>usairways your service has been awful in bosto...</td>\n",
       "    </tr>\n",
       "    <tr>\n",
       "      <th>5</th>\n",
       "      <td>neutral</td>\n",
       "      <td>virginamerica are flights leaving dallas for s...</td>\n",
       "    </tr>\n",
       "    <tr>\n",
       "      <th>6</th>\n",
       "      <td>negative</td>\n",
       "      <td>united  well now finally on board hopefully we...</td>\n",
       "    </tr>\n",
       "    <tr>\n",
       "      <th>7</th>\n",
       "      <td>negative</td>\n",
       "      <td>usairways and then you said i could move my th...</td>\n",
       "    </tr>\n",
       "    <tr>\n",
       "      <th>8</th>\n",
       "      <td>negative</td>\n",
       "      <td>united ok thank you do you provide complimenta...</td>\n",
       "    </tr>\n",
       "    <tr>\n",
       "      <th>9</th>\n",
       "      <td>neutral</td>\n",
       "      <td>you know what  rt jetblue our fleets on fleek ...</td>\n",
       "    </tr>\n",
       "  </tbody>\n",
       "</table>\n",
       "</div>"
      ],
      "text/plain": [
       "  airline_sentiment                                               text\n",
       "0          negative                  usairways cant get back lost time\n",
       "1          negative  usairways three hours on hold then disconnecte...\n",
       "2          positive  united for the record rozana at newark was lov...\n",
       "3          negative  southwestair never got any notification that f...\n",
       "4          negative  usairways your service has been awful in bosto...\n",
       "5           neutral  virginamerica are flights leaving dallas for s...\n",
       "6          negative  united  well now finally on board hopefully we...\n",
       "7          negative  usairways and then you said i could move my th...\n",
       "8          negative  united ok thank you do you provide complimenta...\n",
       "9           neutral  you know what  rt jetblue our fleets on fleek ..."
      ]
     },
     "execution_count": 6,
     "metadata": {},
     "output_type": "execute_result"
    }
   ],
   "source": [
    "# read data\n",
    "df = pd.read_csv(\"models/tweets.csv\")\n",
    "\n",
    "# clean data\n",
    "df = df.sample(frac=1).reset_index(drop=True)\n",
    "df = df[[\"airline_sentiment\", \"text\"]]\n",
    "\n",
    "# clean tweet text\n",
    "df['text'] = df['text'].apply(lambda x: x.lower()) #transform text to lowercase\n",
    "df['text'] = df['text'].apply(lambda x: re.sub('[^a-zA-z0-9\\s]', '', x))\n",
    "\n",
    "print(df.shape)\n",
    "df.head(10)"
   ]
  },
  {
   "cell_type": "code",
   "execution_count": 10,
   "id": "414cd237",
   "metadata": {},
   "outputs": [
    {
     "data": {
      "image/png": "[encoded data removed]",
      "text/plain": [
       "<Figure size 432x288 with 1 Axes>"
      ]
     },
     "metadata": {
      "needs_background": "light"
     },
     "output_type": "display_data"
    }
   ],
   "source": [
    "df['airline_sentiment'].value_counts().sort_index().plot.bar()\n",
    "plt.savefig(\"images/single_count.png\")"
   ]
  },
  {
   "cell_type": "code",
   "execution_count": 12,
   "id": "5acb25ca",
   "metadata": {},
   "outputs": [
    {
     "data": {
      "image/png": "[encoded data removed]",
      "text/plain": [
       "<Figure size 432x288 with 1 Axes>"
      ]
     },
     "metadata": {
      "needs_background": "light"
     },
     "output_type": "display_data"
    }
   ],
   "source": [
    "df['text'].str.len().plot.hist()\n",
    "plt.savefig(\"images/tweet_len.png\")"
   ]
  },
  {
   "cell_type": "code",
   "execution_count": 18,
   "id": "c4d9b3d8",
   "metadata": {},
   "outputs": [
    {
     "name": "stdout",
     "output_type": "stream",
     "text": [
      "[[   0    0    0    0    0    0    0    0    0    0    0    0    0    0\n",
      "     0    0    0    0    0    0    0    0    0    0   78  216  297   15\n",
      "    44    2  910 1257 1429]\n",
      " [   0    0    0    0    0    0    0    0    0    0    0    0    0    0\n",
      "     0    0   13  165  170  197   18   11  553  119   60   28  795    9\n",
      "  3670 3098 1371 1512  928]\n",
      " [   0    0    0    0    0    0    0    0    0    0    0    0    0    0\n",
      "     0   16    3  289  391   51   90   60   56   10   23   24  296    1\n",
      "    30    2    8    3  624]\n",
      " [   0    0    0    0    0    0    0    0    0    0    0    5   36    7\n",
      "     2  275   50   42   10  122   91  134   20  132  796   19 3671    7\n",
      "    11  863 1916  838  312]\n",
      " [   0    0    0    0    0    0    0    0    0    0    0    0    0    0\n",
      "     0    0    0    0    0   13  183   43    3  864  309  178    1   58\n",
      "   178  367 1204  190 1205]]\n"
     ]
    }
   ],
   "source": [
    "# tokenize \n",
    "tokenizer = Tokenizer(num_words=5000)\n",
    "tokenizer.fit_on_texts(df['text'].values)\n",
    "\n",
    "X = tokenizer.texts_to_sequences(df['text'].values)\n",
    "X = pad_sequences(X)\n",
    "print(X[:5])"
   ]
  },
  {
   "cell_type": "code",
   "execution_count": 19,
   "id": "d5a9a67c",
   "metadata": {},
   "outputs": [],
   "source": [
    "# create model\n",
    "model = Sequential()\n",
    "model.add(Embedding(5000, 256, input_length=X.shape[1]))\n",
    "model.add(Dropout(0.3))\n",
    "model.add(LSTM(256, return_sequences=True, dropout=0.3, recurrent_dropout=0.2))\n",
    "model.add(LSTM(256, dropout=0.3, recurrent_dropout=0.2))\n",
    "model.add(Dense(3, activation='softmax'))"
   ]
  },
  {
   "cell_type": "code",
   "execution_count": 20,
   "id": "cd85a661",
   "metadata": {},
   "outputs": [
    {
     "name": "stdout",
     "output_type": "stream",
     "text": [
      "Model: \"sequential\"\n",
      "_________________________________________________________________\n",
      "Layer (type)                 Output Shape              Param #   \n",
      "=================================================================\n",
      "embedding (Embedding)        (None, 33, 256)           1280000   \n",
      "_________________________________________________________________\n",
      "dropout (Dropout)            (None, 33, 256)           0         \n",
      "_________________________________________________________________\n",
      "lstm (LSTM)                  (None, 33, 256)           525312    \n",
      "_________________________________________________________________\n",
      "lstm_1 (LSTM)                (None, 256)               525312    \n",
      "_________________________________________________________________\n",
      "dense (Dense)                (None, 3)                 771       \n",
      "=================================================================\n",
      "Total params: 2,331,395\n",
      "Trainable params: 2,331,395\n",
      "Non-trainable params: 0\n",
      "_________________________________________________________________\n"
     ]
    }
   ],
   "source": [
    "model.compile(loss='categorical_crossentropy', optimizer='adam', metrics=['accuracy'])\n",
    "model.summary()"
   ]
  },
  {
   "cell_type": "code",
   "execution_count": 24,
   "id": "0faf1817",
   "metadata": {},
   "outputs": [
    {
     "name": "stdout",
     "output_type": "stream",
     "text": [
      "negative [1 0 0]\n",
      "negative [1 0 0]\n",
      "negative [1 0 0]\n",
      "negative [1 0 0]\n",
      "negative [1 0 0]\n"
     ]
    },
    {
     "data": {
      "text/plain": [
       "[None, None, None, None, None]"
      ]
     },
     "execution_count": 24,
     "metadata": {},
     "output_type": "execute_result"
    }
   ],
   "source": [
    "y = pd.get_dummies(df['airline_sentiment']).values\n",
    "[print(df['airline_sentiment'][i], y[i]) for i in range(0,5)]"
   ]
  },
  {
   "cell_type": "code",
   "execution_count": 25,
   "id": "4fd3cd2e",
   "metadata": {},
   "outputs": [],
   "source": [
    "X_train, X_test, y_train, y_test = train_test_split(X, y, test_size=0.2, random_state=0)"
   ]
  },
  {
   "cell_type": "code",
   "execution_count": 26,
   "id": "efbcccb6",
   "metadata": {},
   "outputs": [
    {
     "name": "stdout",
     "output_type": "stream",
     "text": [
      "Epoch 1/8\n",
      "366/366 - 190s - loss: 0.6508 - accuracy: 0.7309\n",
      "Epoch 2/8\n",
      "366/366 - 190s - loss: 0.4424 - accuracy: 0.8297\n",
      "Epoch 3/8\n",
      "366/366 - 199s - loss: 0.3576 - accuracy: 0.8663\n",
      "Epoch 4/8\n",
      "366/366 - 203s - loss: 0.2908 - accuracy: 0.8931\n",
      "Epoch 5/8\n",
      "366/366 - 199s - loss: 0.2374 - accuracy: 0.9122\n",
      "Epoch 6/8\n",
      "366/366 - 199s - loss: 0.1960 - accuracy: 0.9248\n",
      "Epoch 7/8\n",
      "366/366 - 200s - loss: 0.1645 - accuracy: 0.9378\n",
      "Epoch 8/8\n",
      "366/366 - 203s - loss: 0.1393 - accuracy: 0.9483\n"
     ]
    },
    {
     "data": {
      "text/plain": [
       "<tensorflow.python.keras.callbacks.History at 0x2969fcaa550>"
      ]
     },
     "execution_count": 26,
     "metadata": {},
     "output_type": "execute_result"
    }
   ],
   "source": [
    "batch_size = 32\n",
    "epochs = 8\n",
    "\n",
    "model.fit(X_train, y_train, epochs=epochs, batch_size=batch_size, verbose=2)"
   ]
  },
  {
   "cell_type": "code",
   "execution_count": 27,
   "id": "ea96bf64",
   "metadata": {},
   "outputs": [],
   "source": [
    "model.save(\"sentiment_model.h5\")"
   ]
  },
  {
   "cell_type": "code",
   "execution_count": 30,
   "id": "42a25d64",
   "metadata": {},
   "outputs": [
    {
     "name": "stdout",
     "output_type": "stream",
     "text": [
      "0.6559028 0.19519587 0.14890131\n"
     ]
    }
   ],
   "source": [
    "predictions = model.predict(X_test)\n",
    "avg_neg = np.mean([prediction[0] for prediction in predictions])\n",
    "avg_neu = np.mean([prediction[1] for prediction in predictions])\n",
    "avg_pos = np.mean([prediction[2] for prediction in predictions])\n",
    "print(avg_neg, avg_neu, avg_pos)"
   ]
  },
  {
   "cell_type": "code",
   "execution_count": 31,
   "id": "db9401f0",
   "metadata": {},
   "outputs": [
    {
     "name": "stdout",
     "output_type": "stream",
     "text": [
      "Positive predictions: 446\n",
      "Neutral predictions: 535\n",
      "Negative predictions: 1947\n",
      "Real positive: 470\n",
      "Real neutral: 622\n",
      "Real negative: 1836\n"
     ]
    }
   ],
   "source": [
    "pos_count, neu_count, neg_count = 0, 0, 0\n",
    "real_pos, real_neu, real_neg = 0, 0, 0\n",
    "for i, prediction in enumerate(predictions):\n",
    "    if np.argmax(prediction)==2:\n",
    "        pos_count += 1\n",
    "    elif np.argmax(prediction)==1:\n",
    "        neu_count += 1\n",
    "    else:\n",
    "        neg_count += 1\n",
    "    \n",
    "    if np.argmax(y_test[i])==2:\n",
    "        real_pos += 1\n",
    "    elif np.argmax(y_test[i])==1:    \n",
    "        real_neu += 1\n",
    "    else:\n",
    "        real_neg +=1\n",
    "\n",
    "print('Positive predictions:', pos_count)\n",
    "print('Neutral predictions:', neu_count)\n",
    "print('Negative predictions:', neg_count)\n",
    "print('Real positive:', real_pos)\n",
    "print('Real neutral:', real_neu)\n",
    "print('Real negative:', real_neg)"
   ]
  },
  {
   "cell_type": "code",
   "execution_count": 37,
   "id": "0647b7e5",
   "metadata": {},
   "outputs": [],
   "source": [
    "import matplotlib.pyplot as plt"
   ]
  },
  {
   "cell_type": "code",
   "execution_count": 38,
   "id": "245f8ffe",
   "metadata": {},
   "outputs": [],
   "source": [
    "la_per_epoch = [\n",
    "{\"epoch\": 1, \"loss\": 0.6508, \"accuracy\": 0.7309},\n",
    "{\"epoch\": 2, \"loss\": 0.4424, \"accuracy\": 0.8297},\n",
    "{\"epoch\": 3, \"loss\": 0.3576, \"accuracy\": 0.8663},\n",
    "{\"epoch\": 4, \"loss\": 0.2908, \"accuracy\": 0.8931},\n",
    "{\"epoch\": 5, \"loss\": 0.2374, \"accuracy\": 0.9122},\n",
    "{\"epoch\": 6, \"loss\": 0.1960, \"accuracy\": 0.9248},\n",
    "{\"epoch\": 7, \"loss\": 0.1645, \"accuracy\": 0.9378},\n",
    "{\"epoch\": 8, \"loss\": 0.1393, \"accuracy\": 0.9483}\n",
    "]\n",
    "predictions = [pos_count, neu_count, neg_count]\n",
    "real = [real_pos, real_neu, real_neg]\n",
    "labels = ['Positive', 'Neutral', 'Negative']"
   ]
  },
  {
   "cell_type": "code",
   "execution_count": 41,
   "id": "0ce766c4",
   "metadata": {},
   "outputs": [
    {
     "data": {
      "image/png": "[encoded data removed]",
      "text/plain": [
       "<Figure size 432x288 with 1 Axes>"
      ]
     },
     "metadata": {
      "needs_background": "light"
     },
     "output_type": "display_data"
    }
   ],
   "source": [
    "x = np.arange(len(labels))\n",
    "width = 0.35 \n",
    "\n",
    "fig, ax = plt.subplots()\n",
    "rects1 = ax.bar(x - width/2, real, width, label='Real')\n",
    "rects2 = ax.bar(x + width/2, predictions, width, label='Predictions')\n",
    "\n",
    "ax.set_ylabel('Scores')\n",
    "ax.set_title('Count of Classifications')\n",
    "ax.set_xticks(x)\n",
    "ax.set_xticklabels(labels)\n",
    "ax.legend()\n",
    "\n",
    "ax.bar_label(rects1, padding=3)\n",
    "ax.bar_label(rects2, padding=3)\n",
    "\n",
    "fig.tight_layout()\n",
    "plt.savefig(\"images/count.png\")\n",
    "plt.show()"
   ]
  },
  {
   "cell_type": "code",
   "execution_count": 42,
   "id": "ba886246",
   "metadata": {},
   "outputs": [
    {
     "data": {
      "image/png": "[encoded data removed]",
      "text/plain": [
       "<Figure size 432x288 with 1 Axes>"
      ]
     },
     "metadata": {
      "needs_background": "light"
     },
     "output_type": "display_data"
    }
   ],
   "source": [
    "fig, ax = plt.subplots()\n",
    "loss = [item['loss'] for item in la_per_epoch]\n",
    "epoch = [item['epoch'] for item in la_per_epoch]\n",
    "accuracy = [item['accuracy'] for item in la_per_epoch]\n",
    "ax.plot(epoch, loss, label = \"Loss\")\n",
    "ax.plot(epoch, accuracy, label = \"Accuracy\")\n",
    "\n",
    "ax.set_xlabel('Epoch')\n",
    "ax.set_title('Accuracy and Loss per epoch')\n",
    "plt.legend()\n",
    "plt.savefig(\"images/epoch.png\")\n",
    "plt.show()"
   ]
  },
  {
   "cell_type": "code",
   "execution_count": null,
   "id": "0d4ac0b0",
   "metadata": {},
   "outputs": [],
   "source": []
  }
 ],
 "metadata": {
  "kernelspec": {
   "display_name": "Python 3",
   "language": "python",
   "name": "python3"
  },
  "language_info": {
   "codemirror_mode": {
    "name": "ipython",
    "version": 3
   },
   "file_extension": ".py",
   "mimetype": "text/x-python",
   "name": "python",
   "nbconvert_exporter": "python",
   "pygments_lexer": "ipython3",
   "version": "3.8.5"
  }
 },
 "nbformat": 4,
 "nbformat_minor": 5
}
